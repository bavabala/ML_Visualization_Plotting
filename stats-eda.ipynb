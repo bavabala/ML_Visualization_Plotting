{
 "cells": [
  {
   "cell_type": "code",
   "execution_count": 1,
   "metadata": {},
   "outputs": [],
   "source": [
    "org_a = [100, 150, 125, 85, 50, 60, 125, 160, 120 , 170] #usd thousand per annum\n",
    "org_b = [180, 110, 140, 95, 55, 70, 50,65,95,100,150] #usd thousand per annum\n"
   ]
  },
  {
   "cell_type": "code",
   "execution_count": 2,
   "metadata": {},
   "outputs": [
    {
     "name": "stdout",
     "output_type": "stream",
     "text": [
      "Mean sal of org_a : 114.5\n",
      "Mean sal of org_b : 100.9090909090909\n"
     ]
    }
   ],
   "source": [
    "# Measures of Central tendencies,Mean,Median and Mode\n",
    "import scipy as sp\n",
    "print(\"Mean sal of org_a :\",sp.mean(org_a))\n",
    "print(\"Mean sal of org_b :\",sp.mean(org_b))\n"
   ]
  },
  {
   "cell_type": "code",
   "execution_count": 3,
   "metadata": {},
   "outputs": [
    {
     "name": "stdout",
     "output_type": "stream",
     "text": [
      "Mean sal of org_a : 114.5\n",
      "Mean sal of org_b : 175.83333333333334\n"
     ]
    }
   ],
   "source": [
    "org_a = [100, 150, 125, 85, 50, 60, 125, 160, 120 , 170] #usd thousand per annum\n",
    "org_b = [180, 110, 140, 95, 55, 70, 50,65,95,100,150,1000] #usd thousand per annum\n",
    "print(\"Mean sal of org_a :\",sp.mean(org_a))\n",
    "print(\"Mean sal of org_b :\",sp.mean(org_b))\n",
    "#Mean is not a recommended measure when you have extreme values."
   ]
  },
  {
   "cell_type": "code",
   "execution_count": 5,
   "metadata": {},
   "outputs": [
    {
     "name": "stdout",
     "output_type": "stream",
     "text": [
      "Median sal of org_a : 122.5\n",
      "Median sal of org_b : 97.5\n"
     ]
    }
   ],
   "source": [
    "print(\"Median sal of org_a :\",sp.median(org_a))\n",
    "print(\"Median sal of org_b :\",sp.median(org_b))\n",
    "# org medain is USD 122.5K,50% of the employees earn more than 122.5 and other 50% are less 122.5\n",
    "# Median is better measure when you have outliers"
   ]
  },
  {
   "cell_type": "code",
   "execution_count": 9,
   "metadata": {},
   "outputs": [
    {
     "name": "stdout",
     "output_type": "stream",
     "text": [
      "Mode sal of org_a : ModeResult(mode=array([125]), count=array([2]))\n",
      "Mode sal of org_b : ModeResult(mode=array([95]), count=array([2]))\n"
     ]
    }
   ],
   "source": [
    "from scipy import stats\n",
    "print(\"Mode sal of org_a :\",stats.mode(org_a))\n",
    "print(\"Mode sal of org_b :\",stats.mode(org_b))"
   ]
  },
  {
   "cell_type": "code",
   "execution_count": null,
   "metadata": {},
   "outputs": [],
   "source": [
    "# Measure of  variability,Range,variance and standard dev "
   ]
  },
  {
   "cell_type": "code",
   "execution_count": 12,
   "metadata": {
    "collapsed": true
   },
   "outputs": [
    {
     "name": "stdout",
     "output_type": "stream",
     "text": [
      "Mean Delay of train_a : 14.6\n",
      "Mean Delay of train_b : 14.8\n",
      "Median Delay of train_a : 15.0\n",
      "Median Delay of train_b : 15.0\n"
     ]
    }
   ],
   "source": [
    "train_a = [10,15,17,13,18] # train delay in mins\n",
    "train_b = [2,30,15,5,22]\n",
    "print(\"Mean Delay of train_a :\",sp.mean(train_a))\n",
    "print(\"Mean Delay of train_b :\",sp.mean(train_b))\n",
    "print(\"Median Delay of train_a :\",sp.median(train_a))\n",
    "print(\"Median Delay of train_b :\",sp.median(train_b))"
   ]
  },
  {
   "cell_type": "code",
   "execution_count": 13,
   "metadata": {
    "collapsed": true
   },
   "outputs": [
    {
     "name": "stdout",
     "output_type": "stream",
     "text": [
      "Range Delay of train_a: 8\n",
      "Range Delay of train_b: 28\n"
     ]
    }
   ],
   "source": [
    "# Range Max - Min\n",
    "print(\"Range Delay of train_a:\",max(train_a)-min(train_a))\n",
    "print(\"Range Delay of train_b:\",max(train_b)-min(train_b))\n",
    "# train A is better from range perspective."
   ]
  },
  {
   "cell_type": "code",
   "execution_count": 15,
   "metadata": {},
   "outputs": [
    {
     "data": {
      "text/plain": [
       "16.666666666666668"
      ]
     },
     "execution_count": 15,
     "metadata": {},
     "output_type": "execute_result"
    }
   ],
   "source": [
    "sp.var([10,15,20])"
   ]
  },
  {
   "cell_type": "markdown",
   "metadata": {},
   "source": [
    "# Skewness\n",
    "is a measure of symmetric"
   ]
  },
  {
   "cell_type": "code",
   "execution_count": 17,
   "metadata": {},
   "outputs": [],
   "source": [
    "import seaborn as sb\n",
    "%matplotlib inline #plot will be displayed in jupyters"
   ]
  },
  {
   "cell_type": "code",
   "execution_count": 20,
   "metadata": {},
   "outputs": [
    {
     "name": "stdout",
     "output_type": "stream",
     "text": [
      "skew: 0.4283142596008264\n",
      "kurtosis: -0.746911612226024\n"
     ]
    },
    {
     "data": {
      "image/png": "[encoded data removed]",
      "text/plain": [
       "<Figure size 432x288 with 1 Axes>"
      ]
     },
     "metadata": {
      "needs_background": "light"
     },
     "output_type": "display_data"
    }
   ],
   "source": [
    "bp = [120,125,122,118,115,135,130,115,110]\n",
    "print('skew:',stats.skew(bp))\n",
    "print('kurtosis:',stats.kurtosis(bp))\n",
    "sb.distplot(bp);\n",
    "#s<+1,s>-1,So this is NORMAL.\n"
   ]
  },
  {
   "cell_type": "markdown",
   "metadata": {},
   "source": [
    "# Generate data which  has S>+1"
   ]
  },
  {
   "cell_type": "markdown",
   "metadata": {},
   "source": [
    "# Kurtosis"
   ]
  },
  {
   "cell_type": "code",
   "execution_count": null,
   "metadata": {},
   "outputs": [],
   "source": []
  }
 ],
 "metadata": {
  "kernelspec": {
   "display_name": "Python 3",
   "language": "python",
   "name": "python3"
  },
  "language_info": {
   "codemirror_mode": {
    "name": "ipython",
    "version": 3
   },
   "file_extension": ".py",
   "mimetype": "text/x-python",
   "name": "python",
   "nbconvert_exporter": "python",
   "pygments_lexer": "ipython3",
   "version": "3.7.4"
  }
 },
 "nbformat": 4,
 "nbformat_minor": 2
}
